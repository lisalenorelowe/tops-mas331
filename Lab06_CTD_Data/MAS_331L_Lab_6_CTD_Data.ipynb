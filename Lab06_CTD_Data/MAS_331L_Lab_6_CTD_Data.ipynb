{
 "cells": [
  {
   "cell_type": "markdown",
   "id": "6d1be2a8",
   "metadata": {},
   "source": [
    "# <center> Lab 6: Plotting and Analyzing CTD Data </center>"
   ]
  },
  {
   "cell_type": "markdown",
   "id": "eb8d7563",
   "metadata": {},
   "source": [
    "---\n",
    "Welcome to the Python component of Lab 5! Since we went out in the boat and have collected a transect of data, we are going to actually analyze our own data! \n",
    "\n",
    "We will go through some more plotting and manipulation of the data we actually collected.\n",
    "\n",
    "Just as before, we would like you to download your work as both an html and ipynb file and **save a figure of your choice** to Canvas."
   ]
  },
  {
   "cell_type": "markdown",
   "id": "095cd3d5",
   "metadata": {},
   "source": [
    "---\n",
    "#### Please acknowledge that you understand the instructions by copying and pasting each of the following into the next cells.\n",
    "\n",
    "#I understand how to save my progress and reopen the notebook.\n",
    "\n",
    "#I understand that I am being asked to save and submit copies of my notebook as well as a figure of my choice for the assignment.\n",
    "\n",
    "#I understand that I need to comment my code.\n"
   ]
  },
  {
   "cell_type": "code",
   "execution_count": null,
   "id": "07f05f60",
   "metadata": {},
   "outputs": [],
   "source": []
  },
  {
   "cell_type": "code",
   "execution_count": null,
   "id": "c455cf46",
   "metadata": {},
   "outputs": [],
   "source": []
  },
  {
   "cell_type": "code",
   "execution_count": null,
   "id": "664f4546",
   "metadata": {},
   "outputs": [],
   "source": []
  },
  {
   "cell_type": "markdown",
   "id": "66cee048",
   "metadata": {},
   "source": [
    "## Let's get started!\n",
    "\n",
    "First, import a couple packages that we will use throughout this assignment"
   ]
  },
  {
   "cell_type": "code",
   "execution_count": null,
   "id": "6232165b",
   "metadata": {},
   "outputs": [],
   "source": [
    "#Import Pandas and alias it as 'pd'\n",
    "#for manipulating tables and timeseries\n",
    "import pandas as pd\n",
    "\n",
    "#Import MatPlotLib and alias it as 'plt'\n",
    "#for making plots/graphs/figures\n",
    "import matplotlib.pyplot as plt\n",
    "\n",
    "#Import Numpy and alias it as 'np'\n",
    "#for the arrays\n",
    "import numpy as np"
   ]
  },
  {
   "cell_type": "markdown",
   "id": "4757a253",
   "metadata": {},
   "source": [
    "### Read in data"
   ]
  },
  {
   "cell_type": "code",
   "execution_count": null,
   "id": "8fcb3ca7",
   "metadata": {},
   "outputs": [],
   "source": [
    "#Start by reading in the data files\n",
    "#We'll help with by loading station 4\n",
    "#Keeping the variable names consisten with our recommendations will help later in the assignment\n",
    "\n",
    "filename4 = \"station4_CTD0_092422.xls\" # name it filename4 for station 4, filename1 for station 1, etc.\n",
    "df_4 = pd.read_excel(filename4) # name it df_4 for station 4, df_1 for station 1, etc."
   ]
  },
  {
   "cell_type": "code",
   "execution_count": null,
   "id": "becb454d",
   "metadata": {},
   "outputs": [],
   "source": [
    "# peek at the data\n",
    "df_4.head()"
   ]
  },
  {
   "cell_type": "markdown",
   "id": "37db26e9",
   "metadata": {},
   "source": [
    "Now it's your turn! Read in the remaining data files, take a peek at the data, and answer the questions from Exercise 1."
   ]
  },
  {
   "cell_type": "markdown",
   "id": "3aa584ab",
   "metadata": {},
   "source": [
    "### Exercise 1: Answer some Qs about the data\n",
    "\n",
    "1. How does the CTD calculate depth?\n",
    "\n",
    "2. How does it measure salinity?\n",
    "\n",
    "3. What is the importance of O2 measurements? What are some possible sources and sinks of oxygen in the water column?\n"
   ]
  },
  {
   "cell_type": "code",
   "execution_count": null,
   "id": "50c27d44",
   "metadata": {},
   "outputs": [],
   "source": []
  },
  {
   "cell_type": "markdown",
   "id": "a6f7e6e0",
   "metadata": {},
   "source": [
    "4. Look at the headings of the columns. Make a table in markdown showing the abbreviation (in the raw data), measured variable, and unit for *any five variables*. See the syntax for a table in the next cell."
   ]
  },
  {
   "cell_type": "markdown",
   "id": "460c60f4",
   "metadata": {},
   "source": [
    "\n",
    "| Heading1 | Heading2 | Heading3 |\n",
    "| :-: | :-: | :-: |\n",
    "| cellinfo1 | cellinfo2 | cellinfo3 |"
   ]
  },
  {
   "cell_type": "markdown",
   "id": "0826431c",
   "metadata": {},
   "source": [
    "This is the corresponding code; do not execute this cell\n",
    "\n",
    "| Heading1 | Heading2 | Heading3 | #You can have as many rows as you'd like, but each must be bookended by vertical lines\n",
    "| :-: | :-: | :-: | #This line aligns the cells in the middle\n",
    "| cellinfo1 | cellinfo2 | cellinfo3 | #Repeat this line for as many additional rows as you'd like"
   ]
  },
  {
   "cell_type": "markdown",
   "id": "d9900651",
   "metadata": {},
   "source": [
    "Make the table below. Keep the cell in markdown mode."
   ]
  },
  {
   "cell_type": "markdown",
   "id": "abc6995b",
   "metadata": {},
   "source": []
  },
  {
   "cell_type": "markdown",
   "id": "5bb8b4af",
   "metadata": {},
   "source": [
    "---\n",
    "# Vertical Profiles"
   ]
  },
  {
   "cell_type": "code",
   "execution_count": null,
   "id": "08f88ada",
   "metadata": {},
   "outputs": [],
   "source": [
    "#Let's start with the temperature at station 1\n",
    "\n",
    "fig1, (ax1) = plt.subplots() # There's only 1 plot, so subplot argument is empty\n",
    "ax1.plot(df_4[\"TempC\"],df_4[\"Depth\"])\n",
    "\n",
    "# Draw x label\n",
    "ax1.set_xlabel('Temperature (C)')\n",
    "ax1.xaxis.set_label_position('top') # this moves the label to the top\n",
    "ax1.xaxis.set_ticks_position('top') # this moves the ticks to the top\n",
    "\n",
    "# Draw y label\n",
    "ax1.set_ylabel('Depth (m)')\n",
    "ax1.set_ylim(ax1.get_ylim()[::-1]) #this reverses the yaxis (i.e. deep at the bottom)\n"
   ]
  },
  {
   "cell_type": "markdown",
   "id": "238113f1",
   "metadata": {},
   "source": [
    "### Add another CTD profile to the plot\n",
    "\n",
    "Let's add another variable to the graph to see two CTD profiles plotted together.\n",
    "\n",
    "We can plot a second variable with temperature by creating another axis using\n",
    "ax2 = ax.twiny()\n",
    "\n",
    "By default, ax1 will be on the bottom, and ax2 will be on the top. Because we want temperature displayed on the top, we will call it ax2. We no longer need the command moving the x-axis and tick marks for temperature to the top of the graph.\n",
    "\n",
    "Let's add a plot of DO on ax1."
   ]
  },
  {
   "cell_type": "code",
   "execution_count": null,
   "id": "eaba9fae",
   "metadata": {},
   "outputs": [],
   "source": [
    "#plot DO and temp profiles\n",
    "fig1, (ax1) = plt.subplots() # There's only 1 plot, so subplot argument is empty\n",
    "\n",
    "ax1.plot(df_4[\"O2\"],df_4[\"Depth\"]) #plot DO\n",
    "ax1.set_xlabel('DO (mg/l)')\n",
    "ax1.set_ylabel('Depth (m)')\n",
    "ax1.set_ylim(ax1.get_ylim()[::-1]) #this reverses the yaxis (i.e. deep at the bottom)\n",
    "\n",
    "ax2 = ax1.twiny() #plot a second variable\n",
    "ax2.plot(df_4[\"TempC\"],df_4[\"Depth\"]) # plot temp\n",
    "ax2.set_xlabel('Temperature (°C)')"
   ]
  },
  {
   "cell_type": "markdown",
   "id": "209be8b9",
   "metadata": {},
   "source": [
    "Ok this looks pretty good except we can't tell which line is which variable. \n",
    "Let's change the colors for each variable and axis, so we can easily read the plot. \n",
    "Let's take a look at the base colors available for matplotlib.\n",
    "\n",
    "| Syntax | Color |\n",
    "| :-: | :-: |\n",
    "| 'b' | blue |\n",
    "| 'g' | green |\n",
    "| 'r' | red |\n",
    "| 'c' | cyan |\n",
    "| 'm' | magenta |\n",
    "| 'y' | yellow |\n",
    "| 'k' | black |\n",
    "| 'w' | white |\n",
    "\n",
    "There are a lot more colors available, but these are your basic choices. \n"
   ]
  },
  {
   "cell_type": "markdown",
   "id": "eaabacc6",
   "metadata": {},
   "source": [
    "Now we can use these commands to change the colors of the plot\n",
    "\n",
    "| Syntax | Effect |\n",
    "| :-: | :-: |\n",
    "| ax.xaxis.label.set_color('y') | Set X-axis label color |\n",
    "| ax.tick_params(axis='x', colors='y') | Set X-axis tick color |\n",
    "| ax.spines['top'].set_color('y') | Set top spine color |\n",
    "\n",
    "Let's start with DO."
   ]
  },
  {
   "cell_type": "code",
   "execution_count": null,
   "id": "3f563a0b",
   "metadata": {},
   "outputs": [],
   "source": [
    "#plot DO and temp profiles\n",
    "fig1, (ax1) = plt.subplots() # <-- only 1 plot, so subplot argument is empty\n",
    "ax1.plot(df_4[\"O2\"],df_4[\"Depth\"], \"g\") #plot DO in green\n",
    "ax1.set_xlabel('DO (mg/l)')\n",
    "ax1.set_ylabel('Depth (m)')\n",
    "ax1.set_ylim(ax1.get_ylim()[::-1]) #this reverses the yaxis (i.e. deep at the bottom)\n",
    "ax1.xaxis.label.set_color('g') #setting up X-axis label color to green\n",
    "ax1.tick_params(axis='x', colors='g') #setting up X-axis tick color to green\n",
    "ax1.spines['bottom'].set_color('g') #setting up bottom spine as green\n",
    "\n",
    "ax2 = ax1.twiny()\n",
    "ax2.plot(df_4[\"TempC\"],df_4[\"Depth\"]) # plot temp\n",
    "ax2.set_xlabel('Temperature (°C)')\n"
   ]
  },
  {
   "cell_type": "markdown",
   "id": "9f94b5c3",
   "metadata": {},
   "source": [
    "### Exercise 2\n",
    "\n",
    "Recreate the plot above, but make the below changes:\n",
    "\n",
    "Change the xticks, xlabel, xspine, and x values for temp to all the same color.\n",
    "You can keep it as the default blue or select another color. "
   ]
  },
  {
   "cell_type": "code",
   "execution_count": null,
   "id": "12bf6163",
   "metadata": {},
   "outputs": [],
   "source": []
  },
  {
   "cell_type": "markdown",
   "id": "b20902b2",
   "metadata": {},
   "source": [
    "---\n",
    "# Vertical Profile Subplots\n",
    "\n",
    "Instead of graphing the CTD profiles for variables on the same graph, let's try doing subplots. Sometimes a single graph for multiple variables is too messy, and having subplots can display the information more clearly.\n",
    "\n",
    "We'll start with our original plot for temp, then add a plot next to it for salinity"
   ]
  },
  {
   "cell_type": "code",
   "execution_count": null,
   "id": "89ea10b9",
   "metadata": {},
   "outputs": [],
   "source": [
    "# Create subplots of temp and salinity\n",
    "\n",
    "#subplot now has ax1 and ax2\n",
    "#Subplot arguments are (1, 2, sharey = True)\n",
    "#(1,2) makes 1 row and 2 columns of subplots\n",
    "#sharey = true allows them to share y-axes with the same scaling and scale labels.\n",
    "fig1, (ax1, ax2) = plt.subplots(1,2,sharey=True)\n",
    "\n",
    "# Temperature\n",
    "ax1.plot(df_4[\"TempC\"],df_4[\"Depth\"]) # plot\n",
    "ax1.set_xlabel('Temperature (°C)') # x axis\n",
    "ax1.xaxis.set_label_position('top') \n",
    "ax1.xaxis.set_ticks_position('top') \n",
    "ax1.set_ylim(ax1.get_ylim()[::-1])\n",
    "ax1.set_ylabel('Depth (m)') # y axis\n",
    "\n",
    "# Salinity\n",
    "ax2.plot(df_4[\"Salinity\"],df_4[\"Depth\"], 'r') # plot\n",
    "ax2.set_xlabel('Salinity (psu)') # x axis\n",
    "ax2.xaxis.set_label_position('top') \n",
    "ax2.xaxis.set_ticks_position('top') \n",
    "ax2.set_ylabel('Depth (m)') # y axis\n",
    "fig1.suptitle(\"Station 4, Sep 24, 2022\") #gives a grand title that covers all subplots"
   ]
  },
  {
   "cell_type": "markdown",
   "id": "3c2fa58a",
   "metadata": {},
   "source": [
    "How does the title look to you? \n",
    "We need to move it in order to read it! \n",
    "\n",
    "### Exercise 3\n",
    "\n",
    "Add x and y coordinates to move the grand title up using:\n",
    "\n",
    "fig1.suptitle(\"Station 1, Sep 24, 2022\", x= , y= ) \n",
    "\n",
    "Try your own values for x and y until you find ones that make sense.\n",
    "\n",
    "Let's also get rid of the ylabel for the 2nd plot since we don't really need it. "
   ]
  },
  {
   "cell_type": "code",
   "execution_count": null,
   "id": "8cb1fb27",
   "metadata": {
    "scrolled": true
   },
   "outputs": [],
   "source": []
  },
  {
   "cell_type": "markdown",
   "id": "366a8832",
   "metadata": {},
   "source": [
    "### Exercise 4:\n",
    "\n",
    "Add 2 more subplots of the variable of your choosing. Make each variable a different color or style of line. \n",
    "\n",
    "Put the new plots next to the first two.\n"
   ]
  },
  {
   "cell_type": "code",
   "execution_count": null,
   "id": "e0f32160",
   "metadata": {},
   "outputs": [],
   "source": []
  },
  {
   "cell_type": "markdown",
   "id": "8a05c5b1",
   "metadata": {},
   "source": [
    "### Exercise 5: Answer the Questions Below\n",
    "\n",
    "Look at the variables you plotted. \n",
    "\n",
    "1. Describe the characteristics of each vertical profile. What, if any, are the differences between the surface, middle, and bottom water?\n",
    "\n",
    "2. How many layers of water masses are indicated from the vertical profiles? \n",
    "\n",
    "3. Under what conditions would you expect to see the values for a given variable to be the same at the surface and bottom? If surface and bottom values were the same for salinity, would you expect them to be the same for other variables too?\n",
    "\n",
    "4. What variable do you think is driving the differences between the water column layers?\n"
   ]
  },
  {
   "cell_type": "markdown",
   "id": "0d7a5184",
   "metadata": {},
   "source": [
    "---\n",
    "# Vertical profiles of our Transect\n",
    "This transect runs from inshore (station 1) to offshore (station 4). "
   ]
  },
  {
   "cell_type": "markdown",
   "id": "af840d55",
   "metadata": {},
   "source": [
    "Let's plot a 2D contour map of a variable across the transect.\n",
    "\n",
    "This will be similar to the colormap we made in the Lab 3 of Python Intro I"
   ]
  },
  {
   "cell_type": "markdown",
   "id": "961b9406",
   "metadata": {},
   "source": [
    "First we have to read in our location data and make corresponding arrays. Since this is a North to South transect, we will deal with latitude only. Not all cruise tracks will be mostly in a straight line; often you will have to deal with both longitude and latitude."
   ]
  },
  {
   "cell_type": "code",
   "execution_count": null,
   "id": "5dcf4ebf",
   "metadata": {},
   "outputs": [],
   "source": [
    "#Ensure that you have uploaded all your data files.\n",
    "\n",
    "filename5 = \"Lab6_lat.xlsx\"\n",
    "df_lat = pd.read_excel(filename5)"
   ]
  },
  {
   "cell_type": "code",
   "execution_count": null,
   "id": "1b26a939",
   "metadata": {},
   "outputs": [],
   "source": [
    "print(df_lat)"
   ]
  },
  {
   "cell_type": "markdown",
   "id": "cc90a864",
   "metadata": {},
   "source": [
    "Our goal is graph each variable using depth as the x axis, latitude as the y axis, and z, or the contour, as the CTD variable we are interested in. We can also think of the y axis as the station locations, just represented by their latitude. \n",
    "\n",
    "First we need to create an array of each latitude for each station.\n",
    "\n",
    "Let's start with the station 1, the most offshore station."
   ]
  },
  {
   "cell_type": "code",
   "execution_count": null,
   "id": "95129d13",
   "metadata": {},
   "outputs": [],
   "source": [
    "#how long of a latitude array do we need?\n",
    "#pick any variable in MB and check its size\n",
    "\n",
    "df_1[\"TempC\"].size"
   ]
  },
  {
   "cell_type": "code",
   "execution_count": null,
   "id": "fa7389d2",
   "metadata": {},
   "outputs": [],
   "source": [
    "#We need to make a 361x1 array for latitude at station MB\n",
    "#Populate the array with the lat for the station.\n",
    "\n",
    "MB_lat = np.full((361,1),30.16694)\n",
    "print(MB_lat)"
   ]
  },
  {
   "cell_type": "markdown",
   "id": "a8fba60e",
   "metadata": {},
   "source": [
    "Looks good. Now we need to do the same thing for the rest of the stations. "
   ]
  },
  {
   "cell_type": "markdown",
   "id": "0392be79",
   "metadata": {},
   "source": [
    "### Exercise 6\n",
    "\n",
    "Create latitude arrays for stations 2, 3, and 4."
   ]
  },
  {
   "cell_type": "code",
   "execution_count": null,
   "id": "3ceb8d21",
   "metadata": {},
   "outputs": [],
   "source": []
  },
  {
   "cell_type": "markdown",
   "id": "45eca99c",
   "metadata": {},
   "source": [
    "Great! Now we have all the latitude arrays.\n",
    "\n",
    "If we want to plot the CTD profile of a variable across an entire transect, we need to combine the data from each station. We use concatenate commands to do this. Concatenation basically just means \"combining\".\n",
    "\n",
    "Let's start by doing that for the latitudes arrays that we just created. We can combine them using\n",
    "\n",
    "np.concatenate([array1, array2, etc.])"
   ]
  },
  {
   "cell_type": "code",
   "execution_count": null,
   "id": "fe8c1471",
   "metadata": {},
   "outputs": [],
   "source": [
    "# combine the lat arrays\n",
    "\n",
    "lat_all = np.concatenate([]) #fill in the arguments\n",
    "print(lat_all)"
   ]
  },
  {
   "cell_type": "markdown",
   "id": "0370b9a2",
   "metadata": {},
   "source": [
    "Great. Now let's combine all our depths from each station.\n",
    "We must concatenate in the same order as we did for the latitudes, so that all the values match up.\n",
    "\n",
    "Since our depths are in a dataframe, we will use pd.concat() instead of np.concatenate()"
   ]
  },
  {
   "cell_type": "code",
   "execution_count": null,
   "id": "8d3af023",
   "metadata": {},
   "outputs": [],
   "source": [
    "# vert cat depths\n",
    "#make sure the dataframe names match yours.\n",
    "\n",
    "depth_all = pd.concat([df_1[\"Depth\"],df_2[\"Depth\"], df_3[\"Depth\"], df_4[\"Depth\"]])\n",
    "print(depth_all)"
   ]
  },
  {
   "cell_type": "markdown",
   "id": "12774952",
   "metadata": {},
   "source": [
    "### Exercise 7\n",
    "\n",
    "Pick a CTD variable that you want to plot across the transect.\n",
    "\n",
    "Using pd.concat(), concatenate that variable just like you did for depth."
   ]
  },
  {
   "cell_type": "code",
   "execution_count": null,
   "id": "c44d9043",
   "metadata": {},
   "outputs": [],
   "source": []
  },
  {
   "cell_type": "markdown",
   "id": "e824dd04",
   "metadata": {},
   "source": [
    "So at this point we should have nice concatenated arrays or dataframe columns for depth, latitude, and whichever CTD variable you choose\n",
    "\n",
    "To plot our transect contour, let's first reassign the names depth, latitude, and CTD variable so we don't get confused\n",
    "\n",
    "Execute this code below:\n",
    "```\n",
    "    x = lat_all\n",
    "    y = depth_all\n",
    "    z = temp_all <--- put in the concatenated CTD variable you chose\n",
    "```"
   ]
  },
  {
   "cell_type": "code",
   "execution_count": null,
   "id": "c01f14d6",
   "metadata": {},
   "outputs": [],
   "source": []
  },
  {
   "cell_type": "markdown",
   "id": "0b10251a",
   "metadata": {},
   "source": [
    "Now we have our x, y, and z in order, we can plot the transect contour using this code:\n",
    "\n",
    "```\n",
    "colorby = z #color by the variable you chose\n",
    "colormap = '' #pick a colormap scheme\n",
    "plt.figure()\n",
    "plt.scatter(x,y,z, c=colorby, cmap=colormap, alpha=1.0) \n",
    "plt.gca().invert_yaxis()\n",
    "plt.gca().invert_xaxis() # invert lats so we get a plot that is oriented N-->\n",
    "plt.colorbar()\n",
    "```\n",
    "\n",
    "Remember from our first Python lab:\n",
    "```\n",
    "x = data position\n",
    "y = data position\n",
    "c = sequence of numbers to be mapped to colors\n",
    "cmap = colormap\n",
    "alpha = transparency, where opaque==1\n",
    "```\n",
    "\n",
    "And you can change pick a different colormap scheme from here: https://matplotlib.org/stable/tutorials/colors/colormaps.html"
   ]
  },
  {
   "cell_type": "code",
   "execution_count": null,
   "id": "66c53113",
   "metadata": {},
   "outputs": [],
   "source": []
  },
  {
   "cell_type": "markdown",
   "id": "ac59205f",
   "metadata": {},
   "source": [
    "Now add some axis labels and a title to your plot"
   ]
  },
  {
   "cell_type": "code",
   "execution_count": null,
   "id": "a264b6ad",
   "metadata": {},
   "outputs": [],
   "source": []
  },
  {
   "cell_type": "markdown",
   "id": "7a05ee3c",
   "metadata": {},
   "source": [
    "### Exercise 8: Describe the plot\n",
    "\n",
    "How does the variable change from inshore to offshore?\n",
    "\n",
    "Do the values at the surface change from inshore to offshore?\n",
    "\n",
    "What do you think is the main driver of the pattern you see?\n"
   ]
  },
  {
   "cell_type": "markdown",
   "id": "965f0740",
   "metadata": {},
   "source": [
    "### Exercise 9: Create 2 more CTD profile transects\n",
    "\n",
    "\n",
    "Now let's examine the transect of 2 more CTD profiles.\n",
    "Pick 2 other CTD variables and plot them in the same way you did above.\n",
    "\n",
    "\n",
    "Change the colormap scheme for each of the plots.\n",
    "\n",
    "\n",
    "Remember, you will have to concatenate the new variables for your new zs, but you can use the same x and y as we already defined. \n",
    "\n",
    "\n",
    "After you complete each plot, describe the patterns you see in the profiles as they move from the bay to offshore. \n",
    "\n",
    "\n",
    "Add as many cells below as you need to complete these two plots."
   ]
  },
  {
   "cell_type": "code",
   "execution_count": null,
   "id": "4157718e",
   "metadata": {},
   "outputs": [],
   "source": []
  }
 ],
 "metadata": {
  "kernelspec": {
   "display_name": "Python 3 (ipykernel)",
   "language": "python",
   "name": "python3"
  },
  "language_info": {
   "codemirror_mode": {
    "name": "ipython",
    "version": 3
   },
   "file_extension": ".py",
   "mimetype": "text/x-python",
   "name": "python",
   "nbconvert_exporter": "python",
   "pygments_lexer": "ipython3",
   "version": "3.9.12"
  }
 },
 "nbformat": 4,
 "nbformat_minor": 5
}
